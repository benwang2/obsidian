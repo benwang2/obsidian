{
 "cells": [
  {
   "cell_type": "markdown",
   "metadata": {},
   "source": [
    "### <font color=\"brown\">Visualization</font>"
   ]
  },
  {
   "cell_type": "code",
   "execution_count": null,
   "metadata": {},
   "outputs": [],
   "source": [
    "from matplotlib import pyplot as plt"
   ]
  },
  {
   "cell_type": "markdown",
   "metadata": {},
   "source": [
    "---"
   ]
  },
  {
   "cell_type": "markdown",
   "metadata": {},
   "source": [
    "#### <font color=\"brown\">Line Plot</font>"
   ]
  },
  {
   "cell_type": "markdown",
   "metadata": {},
   "source": [
    "**Line plots are used to see trends**"
   ]
  },
  {
   "cell_type": "code",
   "execution_count": null,
   "metadata": {},
   "outputs": [],
   "source": [
    "# a line plot of share price against years\n",
    "years = [2015,2016,2017,2018,2019]\n",
    "share_price = [105,116,169,148,297]\n",
    "#plt.plot(years,share_price)\n",
    "plt.plot(years,share_price)\n",
    "plt.show()"
   ]
  },
  {
   "cell_type": "code",
   "execution_count": null,
   "metadata": {},
   "outputs": [],
   "source": [
    "# save figure\n",
    "plt.savefig('stock_trends.png')  # figure will be empty because you have already done show!"
   ]
  },
  {
   "cell_type": "code",
   "execution_count": null,
   "metadata": {},
   "outputs": [],
   "source": [
    "# save figure\n",
    "years = [2015,2016,2017,2018,2019]\n",
    "share_price = [105,116,169,148,297]\n",
    "plt.plot(years,share_price)\n",
    "plt.savefig('stock_trends.png')"
   ]
  },
  {
   "cell_type": "markdown",
   "metadata": {},
   "source": [
    "#### x-axis ticks"
   ]
  },
  {
   "cell_type": "code",
   "execution_count": null,
   "metadata": {},
   "outputs": [],
   "source": [
    "# change x axis ticks\n",
    "years = [2015,2016,2017,2018,2019]\n",
    "share_price = [105,116,169,148,297]\n",
    "plt.xticks([2015,2016,2017,2018,2019])\n",
    "plt.plot(years,share_price)\n",
    "plt.show()"
   ]
  },
  {
   "cell_type": "markdown",
   "metadata": {},
   "source": [
    "#### Line color, point markers, labels for axes, label for plot, font sizes"
   ]
  },
  {
   "cell_type": "code",
   "execution_count": null,
   "metadata": {},
   "outputs": [],
   "source": [
    "# mark the points on the curve, color the line green\n",
    "# label the plot and the axes, with font sizes\n",
    "years = [2015,2016,2017,2018,2019]\n",
    "share_price = [105,116,169,148,297]\n",
    "plt.xticks([2015,2016,2017,2018,2019])\n",
    "plt.ylabel('Share Price',fontsize=12)\n",
    "plt.title('Apple Stock',fontsize=14)\n",
    "plt.plot(years,share_price,marker='o',color='green')\n",
    "plt.show()"
   ]
  },
  {
   "cell_type": "markdown",
   "metadata": {},
   "source": [
    "#### Line types, figure size, plot legend"
   ]
  },
  {
   "cell_type": "code",
   "execution_count": null,
   "metadata": {},
   "outputs": [],
   "source": [
    "# figure size, different types of lines, legend\n",
    "years = [2015,2016,2017,2018,2019]\n",
    "apple_share_price = [105,116,169,148,297]\n",
    "facebook_share_price = [104,115,176,134,208]\n",
    "\n",
    "plt.figure(figsize=(8,5))  # figure size, default units are inches\n",
    "plt.xticks([2015,2016,2017,2018,2019])\n",
    "plt.ylabel('Share Price',fontsize=12)\n",
    "plt.title('Stock Performance',fontsize=14)\n",
    "plt.plot(years,apple_share_price,'g-',marker='o',label='Apple')  #'g-' means green, solid\n",
    "plt.plot(years,facebook_share_price,'r--',marker='s',label='Facebook') # 'r--' means red, dashed\n",
    "plt.legend(loc=\"upper left\")  # legend maps line to label, loc specifies where\n",
    "# can use loc=\"best\", which in this case will give the same result since upper left is best location\n",
    "plt.show()"
   ]
  },
  {
   "cell_type": "markdown",
   "metadata": {},
   "source": [
    "---"
   ]
  },
  {
   "cell_type": "markdown",
   "metadata": {},
   "source": [
    "#### <font color=\"brown\">Scatter Plot</font>"
   ]
  },
  {
   "cell_type": "markdown",
   "metadata": {},
   "source": [
    "#### Marker Size"
   ]
  },
  {
   "cell_type": "code",
   "execution_count": null,
   "metadata": {},
   "outputs": [],
   "source": [
    "import numpy as np\n",
    "def linfunc(x):\n",
    "    return 1.7*x-5\n",
    "\n",
    "x = np.array([5,10,15,20,25,30])\n",
    "y = linfunc(x)\n",
    "plt.scatter(x,y,s=y)  # s argument used for varying sizes of plot points\n",
    "plt.yticks(range(5,51,5))\n",
    "plt.show()"
   ]
  },
  {
   "cell_type": "markdown",
   "metadata": {},
   "source": [
    "#### Annotating points with text"
   ]
  },
  {
   "cell_type": "code",
   "execution_count": null,
   "metadata": {},
   "outputs": [],
   "source": [
    "# annotating points with text\n",
    "mpg = [10,15,20,25,30,35]\n",
    "horsepower = [215,165,95,95,70,69]\n",
    "car = ['Ford F250','Buick Skylark 320','Plymouth Duster',\n",
    "       'Saab 99e','Peugeot 304','Datsun 1200']\n",
    "plt.figure(figsize=(7,5))\n",
    "plt.scatter(mpg, horsepower)\n",
    "plt.yticks(range(40,241,20))\n",
    "plt.xticks(range(5,41,5))\n",
    "plt.xlabel('Miles per gallon',fontsize=12)\n",
    "plt.ylabel('Horsepower',fontsize=12)\n",
    "for cname, mperg, hp in zip(car[:3], mpg[:3], horsepower[:3]):\n",
    "    plt.annotate(cname, xy=(mperg,hp), \n",
    "                 xytext=(-40,7),textcoords='offset points')\n",
    "for cname, mperg, hp in zip(car[3:-1], mpg[3:-1], horsepower[3:-1]):\n",
    "    plt.annotate(cname, xy=(mperg,hp), \n",
    "                 xytext=(-20,-15),textcoords='offset points')  \n",
    "plt.annotate(car[-1],xy=(mpg[-1],horsepower[-1]), \n",
    "                 xytext=(-20,7),textcoords='offset points')  \n",
    "plt.show()"
   ]
  },
  {
   "cell_type": "markdown",
   "metadata": {},
   "source": [
    "---"
   ]
  },
  {
   "cell_type": "markdown",
   "metadata": {},
   "source": [
    "#### <font color=\"brown\">Bar Chart</font>"
   ]
  },
  {
   "cell_type": "code",
   "execution_count": null,
   "metadata": {},
   "outputs": [],
   "source": [
    "score_ranges = ['0-50','51-60','61-70','71-80','81-90','91-100']\n",
    "num_students = [44,33,28,47,24,18]\n",
    "plt.figure(figsize=(8,5))\n",
    "plt.bar(score_ranges, num_students)\n",
    "plt.show()"
   ]
  },
  {
   "cell_type": "markdown",
   "metadata": {},
   "source": [
    "#### Mapping non-numeric labels to numeric values for x ticks"
   ]
  },
  {
   "cell_type": "code",
   "execution_count": null,
   "metadata": {},
   "outputs": [],
   "source": [
    "# alternatively, can give a numeric range for xticks, and map labels to the tick numbers\n",
    "score_ranges = ['0-50','51-60','61-70','71-80','81-90','91-100']\n",
    "num_students = [44,33,28,47,24,18]\n",
    "plt.figure(figsize=(8,5))\n",
    "plt.bar(range(len(num_students)), num_students)\n",
    "plt.xticks(range(len(num_students)),score_ranges)  # first arg is numeric set, second is mapped labels\n",
    "plt.yticks(range(0,51,5))\n",
    "plt.show()"
   ]
  },
  {
   "cell_type": "markdown",
   "metadata": {},
   "source": [
    "#### Abutting edges, bar color, bar width"
   ]
  },
  {
   "cell_type": "code",
   "execution_count": null,
   "metadata": {},
   "outputs": [],
   "source": [
    "num_students = [3,5,8,12,15,33,28,47,24,18]\n",
    "plt.figure(figsize=(8,5))\n",
    "plt.bar(range(0,100,10), num_students,\n",
    "            10,  # width of each bar is 10\n",
    "            color='#bffa45', # bar color\n",
    "            edgecolor='green')  # bar edge color\n",
    "plt.xticks(range(0,100,10))\n",
    "plt.yticks(range(0,51,5))\n",
    "plt.show()"
   ]
  },
  {
   "cell_type": "markdown",
   "metadata": {},
   "source": [
    "**need to shift the bars by 5 to the right**"
   ]
  },
  {
   "cell_type": "code",
   "execution_count": null,
   "metadata": {},
   "outputs": [],
   "source": [
    "num_students = [3,5,8,12,15,33,28,47,24,18]\n",
    "plt.figure(figsize=(8,5))\n",
    "plt.bar(range(5,100,10),  # start range at 5\n",
    "            num_students,\n",
    "            10,  # width of each bar is 10\n",
    "            color='#bffa45',\n",
    "            edgecolor='green')  # bar edge color\n",
    "plt.xticks(range(0,101,10))\n",
    "plt.yticks(range(0,51,5))\n",
    "plt.xlabel('Score Decile')\n",
    "plt.ylabel('# of students')\n",
    "plt.title('Distribution of Exam 1 Scores',fontsize='14')\n",
    "plt.show()"
   ]
  },
  {
   "cell_type": "markdown",
   "metadata": {},
   "source": [
    "#### Bar chart for categorical counts, different colors for bars"
   ]
  },
  {
   "cell_type": "code",
   "execution_count": null,
   "metadata": {},
   "outputs": [],
   "source": [
    "cities = ['Seattle','Chicago','New York','London']\n",
    "sunny_days = [152,189,224,275]\n",
    "plt.bar(cities, sunny_days, color = ['#fbfcbf','#fafda3','#fafe6f','#f8fe46'])\n",
    "plt.show()"
   ]
  },
  {
   "cell_type": "markdown",
   "metadata": {},
   "source": [
    "**Since the highest value is under 300, the last marker shown is 250. If you want the last marker to be 300, you will need to set it explicitly, as shown below**"
   ]
  },
  {
   "cell_type": "code",
   "execution_count": null,
   "metadata": {},
   "outputs": [],
   "source": [
    "cities = ['Seattle','Chicago','New York','London']\n",
    "sunny_days = [152,189,224,275]\n",
    "plt.bar(cities, sunny_days, color = ['#fbfcbf','#fafda3','#fafe6f','#f8fe46'])\n",
    "plt.ylim(0,300)  # need this for the 300 marker to show\n",
    "plt.show()"
   ]
  },
  {
   "cell_type": "markdown",
   "metadata": {},
   "source": [
    "#### Comparative Bar Charts\n",
    "When you want to plot side-by-side bars for comparison, just shift the x points to the right for every new bar set"
   ]
  },
  {
   "cell_type": "code",
   "execution_count": null,
   "metadata": {},
   "outputs": [],
   "source": [
    "y1 = [20,30,45]\n",
    "x1 = [5,25,45]\n",
    "plt.bar(x1,y1,4,label='one') # width = 4\n",
    "y2 = [16,38,43]\n",
    "x2 = [9,29,49]\n",
    "plt.bar(x2,y2,4,label='two') # width = 4\n",
    "plt.xticks([7,27,47],['A','B','C'])   # map labels to numeric tick values\n",
    "plt.ylim(0,50)  # lim includes both ends\n",
    "plt.legend()\n",
    "plt.show"
   ]
  },
  {
   "cell_type": "markdown",
   "metadata": {},
   "source": [
    "---"
   ]
  },
  {
   "cell_type": "markdown",
   "metadata": {},
   "source": [
    "#### <font color=\"brown\">Box Plot</font>"
   ]
  },
  {
   "cell_type": "code",
   "execution_count": null,
   "metadata": {},
   "outputs": [],
   "source": [
    "# compare performance for an exam across two semesters\n",
    "\n",
    "# first read the scores into lists\n",
    "# scores are out of 60\n",
    "s19_scores = []\n",
    "f19_scores = []\n",
    "for line in open('exam2_s19.txt'):\n",
    "    s19_scores.append(int(line))\n",
    "for line in open('exam2_f19.txt'):\n",
    "    f19_scores.append(int(line))      "
   ]
  },
  {
   "cell_type": "code",
   "execution_count": null,
   "metadata": {},
   "outputs": [],
   "source": [
    "print(len(s19_scores))\n",
    "print(len(f19_scores))"
   ]
  },
  {
   "cell_type": "code",
   "execution_count": null,
   "metadata": {},
   "outputs": [],
   "source": [
    "s19_scores[:10]"
   ]
  },
  {
   "cell_type": "code",
   "execution_count": null,
   "metadata": {},
   "outputs": [],
   "source": [
    "f19_scores[:10]"
   ]
  },
  {
   "cell_type": "markdown",
   "metadata": {},
   "source": [
    "**Minimal box plot**"
   ]
  },
  {
   "cell_type": "code",
   "execution_count": null,
   "metadata": {},
   "outputs": [],
   "source": [
    "plt.boxplot(s19_scores)\n",
    "plt.show()"
   ]
  },
  {
   "cell_type": "markdown",
   "metadata": {},
   "source": [
    "**In a box plot**:\n",
    "- The box is plotted at x=1\n",
    "- The center line is at the median value (50th percentile, or 2nd quartile)\n",
    "- The lower and upper ends of the box are at the 25th and 75th percentile (1st and 3rd quartiles)\n",
    "- The value band enclosed by the box is called the inter-quartile range (IQR)\n",
    "- The half lines at top and bottom of the plot are called *whiskers*. The top whisker is at 3Q + 1.5 \\* IQR (or max value, if it is more than max), and the bottom whisker is at 1Q - 1.5 \\* IQR (or min value, if it is less than min)"
   ]
  },
  {
   "cell_type": "code",
   "execution_count": null,
   "metadata": {},
   "outputs": [],
   "source": [
    "print('min:',min(s19_scores))\n",
    "print('max:',max(s19_scores))\n",
    "print('median:',np.median(s19_scores))\n",
    "q1 = np.percentile(s19_scores,25)\n",
    "q3 = np.percentile(s19_scores,75)\n",
    "print('25th percentile (1Q):',q1)\n",
    "print('75th percentile (3Q):',q3)\n",
    "iqr = q3-q1\n",
    "print('IQR:',(q3-q1))\n",
    "bot = q1 - 1.5*iqr\n",
    "top = q3 + 1.5*iqr\n",
    "print('bot:',bot,', top:', top)\n",
    "print('bottom whisker: ',max(min(s19_scores),bot))\n",
    "print('top whisker: ',min(max(s19_scores),top))"
   ]
  },
  {
   "cell_type": "markdown",
   "metadata": {},
   "source": [
    "**In the minimal plot above, the distribution of values is not apparent since the actual values plot is a line that goes over all the points. To get a granular view of the distribution use a scatter plot, and then a box over it.**"
   ]
  },
  {
   "cell_type": "code",
   "execution_count": null,
   "metadata": {},
   "outputs": [],
   "source": [
    "plt.scatter([1]*194, s19_scores)  # x value is 1 for all S19 scores, since box is plotted at x=1\n",
    "plt.boxplot(s19_scores)\n",
    "plt.show()"
   ]
  },
  {
   "cell_type": "markdown",
   "metadata": {},
   "source": [
    "**Points are too big, coalescing into chunks. Need to reduce the size.**"
   ]
  },
  {
   "cell_type": "code",
   "execution_count": null,
   "metadata": {},
   "outputs": [],
   "source": [
    "plt.scatter([1]*194, s19_scores,s=5)  # s=5 found after some playing around with different x values\n",
    "plt.boxplot(s19_scores)\n",
    "plt.show()"
   ]
  },
  {
   "cell_type": "code",
   "execution_count": null,
   "metadata": {},
   "outputs": [],
   "source": [
    "# plot all scores for each exam\n",
    "plt.figure(figsize=(6, 4))\n",
    "plt.scatter([1]*194, s19_scores,s=5)  \n",
    "plt.scatter([2]*189, f19_scores,s=5)  \n",
    "plt.show()"
   ]
  },
  {
   "cell_type": "code",
   "execution_count": null,
   "metadata": {},
   "outputs": [],
   "source": [
    "# slightly better plot, boxes steered away from edges, descriptive x-labels on each\n",
    "plt.figure(figsize=(8, 4))\n",
    "plt.scatter([1]*194, s19_scores,s=5)\n",
    "plt.scatter([2]*189, f19_scores,s=5)   # second plot will be at x=2, so scatter plot at x=2\n",
    "plt.boxplot([s19_scores, f19_scores],labels=('S19','F19'))\n",
    "plt.ylabel('Exam Scores', fontsize=14)\n",
    "plt.show()"
   ]
  },
  {
   "cell_type": "markdown",
   "metadata": {},
   "source": [
    "**Points that fall above the top whisker or below the bottom whisker are called outliers**"
   ]
  },
  {
   "cell_type": "markdown",
   "metadata": {},
   "source": [
    "---"
   ]
  },
  {
   "cell_type": "markdown",
   "metadata": {},
   "source": [
    "#### <font color=\"brown\">Histogram</font>\n",
    "\n",
    "**Like a bar chart, but used to partition a range of values (bar chart is used for discrete sets of values, including categorical sets that are not a partition of a global range)**"
   ]
  },
  {
   "cell_type": "code",
   "execution_count": null,
   "metadata": {},
   "outputs": [],
   "source": [
    "scores = np.abs(np.random.randn(50)*20).astype(int)\n",
    "print(scores)"
   ]
  },
  {
   "cell_type": "code",
   "execution_count": null,
   "metadata": {},
   "outputs": [],
   "source": [
    "max_score = scores.max()\n",
    "if max_score % 5 == 0:\n",
    "    upper = max_score\n",
    "else:\n",
    "    upper = max_score - max_score % 5 + 5\n",
    "max_score, upper"
   ]
  },
  {
   "cell_type": "code",
   "execution_count": null,
   "metadata": {},
   "outputs": [],
   "source": [
    "# adjust range of histogram and xticks according to max value in dataset\n",
    "plt.figure(figsize=(6, 4))\n",
    "plt.hist(scores,bins=range(0,upper+1,5),color='#bffa45',edgecolor='green')\n",
    "plt.xticks(range(0,upper+1,5))\n",
    "plt.show()"
   ]
  },
  {
   "cell_type": "markdown",
   "metadata": {},
   "source": [
    "**Bins are [0,5), [5,10), ... [35,40), [40,45]<br>\n",
    "Meaning, the upper limit in each bin is not included, except in the last bin**"
   ]
  },
  {
   "cell_type": "markdown",
   "metadata": {},
   "source": [
    "---"
   ]
  },
  {
   "cell_type": "markdown",
   "metadata": {},
   "source": [
    "#### <font color=\"brown\">Plot Grid - Subplots</font>"
   ]
  },
  {
   "cell_type": "markdown",
   "metadata": {},
   "source": [
    "**Creating a grid of subplots**"
   ]
  },
  {
   "cell_type": "markdown",
   "metadata": {},
   "source": [
    "https://python-course.eu/numerical-programming/creating-subplots-in-matplotlib.php"
   ]
  },
  {
   "cell_type": "code",
   "execution_count": null,
   "metadata": {},
   "outputs": [],
   "source": [
    "fig, axes = plt.subplots(1,2)  # 1 row, 2 columns"
   ]
  },
  {
   "cell_type": "code",
   "execution_count": null,
   "metadata": {},
   "outputs": [],
   "source": []
  }
 ],
 "metadata": {
  "kernelspec": {
   "display_name": "Python 3 (ipykernel)",
   "language": "python",
   "name": "python3"
  },
  "language_info": {
   "codemirror_mode": {
    "name": "ipython",
    "version": 3
   },
   "file_extension": ".py",
   "mimetype": "text/x-python",
   "name": "python",
   "nbconvert_exporter": "python",
   "pygments_lexer": "ipython3",
   "version": "3.10.6"
  }
 },
 "nbformat": 4,
 "nbformat_minor": 4
}
