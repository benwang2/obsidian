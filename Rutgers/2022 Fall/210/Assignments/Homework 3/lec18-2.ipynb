{
 "cells": [
  {
   "cell_type": "markdown",
   "metadata": {},
   "source": [
    "### <font color=\"brown\">Visualization - continued</font>"
   ]
  },
  {
   "cell_type": "code",
   "execution_count": null,
   "metadata": {},
   "outputs": [],
   "source": [
    "from matplotlib import pyplot as plt"
   ]
  },
  {
   "cell_type": "markdown",
   "metadata": {},
   "source": [
    "---"
   ]
  },
  {
   "cell_type": "markdown",
   "metadata": {},
   "source": [
    "#### <font color=\"brown\">Plot Grid</font>"
   ]
  },
  {
   "cell_type": "markdown",
   "metadata": {},
   "source": [
    "**Creating a grid of subplots**"
   ]
  },
  {
   "cell_type": "markdown",
   "metadata": {},
   "source": [
    "https://python-course.eu/numerical-programming/creating-subplots-in-matplotlib.php"
   ]
  },
  {
   "cell_type": "code",
   "execution_count": null,
   "metadata": {},
   "outputs": [],
   "source": [
    "fig, axes = plt.subplots(1,2)  # 1 row, 2 columns"
   ]
  },
  {
   "cell_type": "markdown",
   "metadata": {},
   "source": [
    "**Change figure size to widen it, and introduce padding between sub plot**"
   ]
  },
  {
   "cell_type": "code",
   "execution_count": null,
   "metadata": {},
   "outputs": [],
   "source": [
    "fig, axes = plt.subplots(1,2,figsize=(8,4))\n",
    "fig.tight_layout(pad=3.0)"
   ]
  },
  {
   "cell_type": "code",
   "execution_count": null,
   "metadata": {},
   "outputs": [],
   "source": [
    "# set yticks for the first figure\n",
    "fig, axes = plt.subplots(1,2,figsize=(8,4))\n",
    "fig.tight_layout(pad=3.0)\n",
    "axes[0].set_yticks(range(0,51,10))  # for the axes object, you need to use set_yticks (yticks won't work)\n",
    "plt.show()"
   ]
  },
  {
   "cell_type": "markdown",
   "metadata": {},
   "source": [
    "#### Do subplots, sharing x and y axes"
   ]
  },
  {
   "cell_type": "code",
   "execution_count": null,
   "metadata": {},
   "outputs": [],
   "source": [
    "# do plots for Apple and Facebook\n",
    "# share the y-axes and x-axes\n",
    "fig, axes = plt.subplots(1,2,figsize=(10,4),sharey=True,sharex=True)\n",
    "fig.tight_layout(pad=3.0)\n",
    "\n",
    "years = [2015,2016,2017,2018,2019]\n",
    "\n",
    "# first figure for Apple stock\n",
    "apple_share_price = [105,116,169,148,297]\n",
    "axes[0].plot(years,apple_share_price)\n",
    "axes[0].set_title('Apple Stock')\n",
    "\n",
    "# second figure for Facebook stock\n",
    "facebook_share_price = [104,115,176,134,208]\n",
    "axes[1].plot(years,facebook_share_price)\n",
    "axes[1].set_title('Facebook Stock')\n",
    "\n",
    "# you can set the tick labels to be different than the tick values\n",
    "axes[0].set_xticks([2015,2016,2017,2018,2019])\n",
    "axes[0].set_xticklabels(\n",
    "    ['Dec\\n2015','Dec\\n2016','Dec\\n2017','Dec\\n2018','Dec\\n2019'])\n",
    "\n",
    "plt.show()"
   ]
  },
  {
   "cell_type": "code",
   "execution_count": null,
   "metadata": {},
   "outputs": [],
   "source": [
    "# do plots for Apple and Facebook\n",
    "# share the y-axes and x-axes\n",
    "fig, axes = plt.subplots(2,2,figsize=(10,8),sharey=True,sharex=True)\n",
    "fig.tight_layout(h_pad=5.0,w_pad=3.0)\n",
    "\n",
    "years = [2015,2016,2017,2018,2019]\n",
    "\n",
    "# first figure for Apple stock\n",
    "apple_share_price = [105,116,169,148,297]\n",
    "axes[0][0].plot(years,apple_share_price)\n",
    "axes[0][0].set_title('Apple Stock')\n",
    "\n",
    "# second figure for Facebook stock\n",
    "facebook_share_price = [104,115,176,134,208]\n",
    "axes[0][1].plot(years,facebook_share_price)\n",
    "axes[0][1].set_title('Facebook Stock')\n",
    "\n",
    "# third figure for Google\n",
    "google_share_price = [766,830,1053,1046,1354]\n",
    "axes[1][0].plot(years,google_share_price)\n",
    "axes[1][0].set_title('Google Stock')\n",
    "\n",
    "# last subplot unused, turn it off\n",
    "axes[1][1].set_axis_off()\n",
    "\n",
    "# x ticks and labels for all\n",
    "axes[0][0].set_xticks([2015,2016,2017,2018,2019])\n",
    "axes[0][0].set_xticklabels(\n",
    "            ['Dec\\n2015','Dec\\n2016','Dec\\n2017','Dec\\n2018','Dec\\n2019'])\n",
    "\n",
    "\n",
    "plt.show()"
   ]
  },
  {
   "cell_type": "markdown",
   "metadata": {},
   "source": [
    "**In the above, since the subplot [1][1] is turned off, the x-axis ticks aren't set and can't be shared with the [0][1] subplot above it. So we need to explicitly set ticks for the [0][1] subplot.**"
   ]
  },
  {
   "cell_type": "code",
   "execution_count": null,
   "metadata": {},
   "outputs": [],
   "source": [
    "# do plots for Apple and Facebook\n",
    "# share the y-axes and x-axes\n",
    "fig, axes = plt.subplots(2,2,figsize=(10,8),sharey=True)\n",
    "fig.tight_layout(h_pad=5.0,w_pad=3.0)\n",
    "\n",
    "years = [2015,2016,2017,2018,2019]\n",
    "\n",
    "# first figure for Apple stock\n",
    "apple_share_price = [105,116,169,148,297]\n",
    "axes[0][0].plot(years,apple_share_price)\n",
    "axes[0][0].set_title('Apple Stock')\n",
    "\n",
    "# second figure for Facebook stock\n",
    "facebook_share_price = [104,115,176,134,208]\n",
    "axes[0][1].plot(years,facebook_share_price)\n",
    "axes[0][1].set_title('Facebook Stock')\n",
    "\n",
    "# third figure for Google\n",
    "google_share_price = [766,830,1053,1046,1354]\n",
    "axes[1][0].plot(years,google_share_price)\n",
    "axes[1][0].set_title('Google Stock')\n",
    "\n",
    "# last subplot unused, turn it off\n",
    "axes[1][1].set_axis_off()\n",
    "\n",
    "# x ticks and labels for all\n",
    "for i in (0,1):\n",
    "    for j in (0,1):\n",
    "        axes[i][j].set_xticks([2015,2016,2017,2018,2019])\n",
    "        axes[i][j].set_xticklabels(\n",
    "            ['Dec\\n2015','Dec\\n2016','Dec\\n2017','Dec\\n2018','Dec\\n2019'])\n",
    "\n",
    "plt.show()"
   ]
  },
  {
   "cell_type": "markdown",
   "metadata": {},
   "source": [
    "---"
   ]
  },
  {
   "cell_type": "markdown",
   "metadata": {},
   "source": [
    "---"
   ]
  },
  {
   "cell_type": "markdown",
   "metadata": {},
   "source": [
    "### <font color=\"brown\">Data Curation and Exploration</font>"
   ]
  },
  {
   "cell_type": "code",
   "execution_count": null,
   "metadata": {},
   "outputs": [],
   "source": [
    "import pandas as pd\n",
    "import numpy as np\n",
    "from pandas import DataFrame\n",
    "from pandas import Series"
   ]
  },
  {
   "cell_type": "markdown",
   "metadata": {},
   "source": [
    "#### <font color=\"brown\">Titanic Dataset from Kaggle</font>\n",
    "https://www.kaggle.com/c/titanic"
   ]
  },
  {
   "cell_type": "markdown",
   "metadata": {},
   "source": [
    "**On the Kaggle page above, if you look at the Data tab, you will see files named train.csv (training set), and test.csv (test set). The training set has 891 instances, and the test set has 418 instances. The training set was downloaded and renamed as titanic_train.csv**"
   ]
  },
  {
   "cell_type": "code",
   "execution_count": null,
   "metadata": {},
   "outputs": [],
   "source": [
    "titanic_file = 'titanic_train.csv'\n",
    "titanic = pd.read_csv(titanic_file)"
   ]
  },
  {
   "cell_type": "code",
   "execution_count": null,
   "metadata": {},
   "outputs": [],
   "source": [
    "titanic"
   ]
  },
  {
   "cell_type": "markdown",
   "metadata": {},
   "source": [
    "**An explanation for the columns is given in the Data tab, under Data Dictionary**"
   ]
  },
  {
   "cell_type": "code",
   "execution_count": null,
   "metadata": {},
   "outputs": [],
   "source": [
    "# column data information\n",
    "titanic.info()"
   ]
  },
  {
   "cell_type": "markdown",
   "metadata": {},
   "source": [
    "##### **Cabin (only 204/891) and Age (only 714/891) have lots of missing values, and Embarked has 2 missing values**"
   ]
  },
  {
   "cell_type": "markdown",
   "metadata": {},
   "source": [
    "---"
   ]
  },
  {
   "cell_type": "markdown",
   "metadata": {},
   "source": [
    "##### <font color=\"brown\">Missing values in numeric columns</font>"
   ]
  },
  {
   "cell_type": "code",
   "execution_count": null,
   "metadata": {},
   "outputs": [],
   "source": [
    "titanic.describe()"
   ]
  },
  {
   "cell_type": "markdown",
   "metadata": {},
   "source": [
    "##### **AGE: mean is about 29, median (50% cutoff) is 28. Let's replace missing values with mean or median, since they are about the same.**"
   ]
  },
  {
   "cell_type": "code",
   "execution_count": null,
   "metadata": {},
   "outputs": [],
   "source": [
    "titanic[titanic['Age'].isnull()]"
   ]
  },
  {
   "cell_type": "code",
   "execution_count": null,
   "metadata": {},
   "outputs": [],
   "source": [
    "titanic['Age'] = titanic['Age'].fillna(titanic['Age'].median())"
   ]
  },
  {
   "cell_type": "code",
   "execution_count": null,
   "metadata": {},
   "outputs": [],
   "source": [
    "# reveiw info, all Age columns should now be filled\n",
    "titanic.info()"
   ]
  },
  {
   "cell_type": "code",
   "execution_count": null,
   "metadata": {},
   "outputs": [],
   "source": [
    "titanic.loc[[5,17,19,26,28]]  # verify "
   ]
  },
  {
   "cell_type": "markdown",
   "metadata": {},
   "source": [
    "---"
   ]
  },
  {
   "cell_type": "markdown",
   "metadata": {},
   "source": [
    "##### <font color=\"brown\">Missing values in non-numeric (categorical) columns</font>"
   ]
  },
  {
   "cell_type": "markdown",
   "metadata": {},
   "source": [
    "##### **Embarkation ports**"
   ]
  },
  {
   "cell_type": "code",
   "execution_count": null,
   "metadata": {},
   "outputs": [],
   "source": [
    "titanic[titanic['Embarked'].isnull()]"
   ]
  },
  {
   "cell_type": "code",
   "execution_count": null,
   "metadata": {},
   "outputs": [],
   "source": [
    "# let's see what is the distribution of Embarked values\n",
    "embarked_vc = titanic['Embarked'].value_counts()\n",
    "print(embarked_vc)"
   ]
  },
  {
   "cell_type": "code",
   "execution_count": null,
   "metadata": {},
   "outputs": [],
   "source": [
    "# plot bar chart for counts at embarkation ports\n",
    "plt.figure(figsize=(3,4))\n",
    "plt.bar(range(len(embarked_vc)),embarked_vc.values, width=0.6)\n",
    "plt.xticks(range(len(embarked_vc)),embarked_vc.index)\n",
    "plt.title('Embarkation',fontsize=14)\n",
    "plt.xlabel('Port',fontsize=12)\n",
    "plt.ylabel('Number of Passenger',fontsize=12)\n",
    "plt.show()"
   ]
  },
  {
   "cell_type": "markdown",
   "metadata": {},
   "source": [
    "##### **<font color=\"brown\">Can also plot directly off Pandas</font>**"
   ]
  },
  {
   "cell_type": "code",
   "execution_count": null,
   "metadata": {},
   "outputs": [],
   "source": [
    "# first make a dataframe just for the embarkation ports data\n",
    "edf = pd.DataFrame(embarked_vc)\n",
    "print(edf)"
   ]
  },
  {
   "cell_type": "code",
   "execution_count": null,
   "metadata": {},
   "outputs": [],
   "source": [
    "# we need the S,C,Q index values to be in a separate column\n",
    "edf = edf.reset_index()  \n",
    "edf.columns = ['Port','Passengers']\n",
    "print(edf)"
   ]
  },
  {
   "cell_type": "code",
   "execution_count": null,
   "metadata": {},
   "outputs": [],
   "source": [
    "axis = edf.plot(x='Port',y='Passengers',kind='bar',rot=1,title='Embarkation',figsize=(4,4))\n",
    "# rot is rotation for x-ticks, see what happens when you take it out"
   ]
  },
  {
   "cell_type": "code",
   "execution_count": null,
   "metadata": {},
   "outputs": [],
   "source": [
    "# remove legend, label the y axis\n",
    "axis = edf.plot(figsize=(4,4),x='Port',y='Passengers',kind='bar',rot=1)\n",
    "axis.set_title('Embarkation',fontsize=14)\n",
    "axis.set_ylabel('Passengers')\n",
    "axis.legend('') "
   ]
  },
  {
   "cell_type": "markdown",
   "metadata": {},
   "source": [
    "##### **An often used option for replacement of null categorial values is to use the most frequent value**"
   ]
  },
  {
   "cell_type": "code",
   "execution_count": null,
   "metadata": {},
   "outputs": [],
   "source": [
    "# replace the missing Embarked values with 'S'\n",
    "titanic['Embarked'] = titanic['Embarked'].fillna('S')\n",
    "titanic.loc[[61, 829]]"
   ]
  },
  {
   "cell_type": "code",
   "execution_count": null,
   "metadata": {},
   "outputs": [],
   "source": [
    "# verify that count for S has been updated, from 644 to 646\n",
    "titanic['Embarked'].value_counts()"
   ]
  },
  {
   "cell_type": "markdown",
   "metadata": {},
   "source": [
    "---"
   ]
  },
  {
   "cell_type": "markdown",
   "metadata": {},
   "source": [
    "##### <font color=\"brown\">Plot the age distribution<font>"
   ]
  },
  {
   "cell_type": "code",
   "execution_count": null,
   "metadata": {},
   "outputs": [],
   "source": [
    "titanic.describe()"
   ]
  },
  {
   "cell_type": "code",
   "execution_count": null,
   "metadata": {},
   "outputs": [],
   "source": [
    "titanic.hist(column='Age')"
   ]
  },
  {
   "cell_type": "code",
   "execution_count": null,
   "metadata": {},
   "outputs": [],
   "source": [
    "titanic.hist(column='Age',grid=False,color='#76c9ef',edgecolor='#056590')"
   ]
  },
  {
   "cell_type": "markdown",
   "metadata": {},
   "source": [
    "---"
   ]
  },
  {
   "cell_type": "markdown",
   "metadata": {},
   "source": [
    "#### <font color=\"brown\">Visualizing the IRIS Dataset from UCI</font>\n",
    "https://archive.ics.uci.edu/ml/datasets/Iris"
   ]
  },
  {
   "cell_type": "markdown",
   "metadata": {},
   "source": [
    "**Load data into DataFrame from URL**"
   ]
  },
  {
   "cell_type": "code",
   "execution_count": null,
   "metadata": {},
   "outputs": [],
   "source": [
    "IRIS_URL = 'http://archive.ics.uci.edu/ml/machine-learning-databases/iris/iris.data'\n",
    "columns = ['sepal_length','sepal_width','petal_length','petal_width','iris-type']\n",
    "iris = pd.read_csv(IRIS_URL,names=columns)"
   ]
  },
  {
   "cell_type": "code",
   "execution_count": null,
   "metadata": {},
   "outputs": [],
   "source": [
    "iris"
   ]
  },
  {
   "cell_type": "code",
   "execution_count": null,
   "metadata": {},
   "outputs": [],
   "source": [
    "iris.describe()"
   ]
  },
  {
   "cell_type": "code",
   "execution_count": null,
   "metadata": {},
   "outputs": [],
   "source": [
    "iris['iris-type'].value_counts()"
   ]
  },
  {
   "cell_type": "markdown",
   "metadata": {},
   "source": [
    "**Plot sepal width vs sepal length for each of the iris types<br>\n",
    "Extract subset DataFrames for each of the iris types, and plot directly off DataFrame**"
   ]
  },
  {
   "cell_type": "code",
   "execution_count": null,
   "metadata": {},
   "outputs": [],
   "source": [
    "iris_types = iris['iris-type'].unique()\n",
    "colors = ['blue','red','green']\n",
    "for iris_type,color in zip(iris_types,colors):\n",
    "    df = iris[iris['iris-type'] == iris_type]    \n",
    "    df.plot('sepal_width','sepal_length',kind='scatter',color=color)"
   ]
  },
  {
   "cell_type": "markdown",
   "metadata": {},
   "source": [
    "**Do all of them in the same plot, for easy comparison**"
   ]
  },
  {
   "cell_type": "code",
   "execution_count": null,
   "metadata": {},
   "outputs": [],
   "source": [
    "fig, ax = plt.subplots(1,1)\n",
    "fig.set_size_inches(5,5)\n",
    "for iris_type,color in zip(iris_types,colors):\n",
    "    df = iris[iris['iris-type'] == iris_type]    \n",
    "    df.plot('sepal_width','sepal_length',ax=ax,kind='scatter',color=color,label=iris_type[5:])\n",
    "# ax.legend(loc='center right')\n"
   ]
  },
  {
   "cell_type": "markdown",
   "metadata": {},
   "source": [
    "**Repeat for sepal length vs petal length and petal width<br>\n",
    "Share the y axis since they are all sepal length**"
   ]
  },
  {
   "cell_type": "code",
   "execution_count": null,
   "metadata": {},
   "outputs": [],
   "source": [
    "fig, axes = plt.subplots(1,3,sharey=True)\n",
    "fig.set_size_inches(15,5)\n",
    "axsubs = [0,1,2]\n",
    "for x,axsub in zip(['sepal_width','petal_length','petal_width'],axsubs):\n",
    "    for iris_type,color in zip(iris_types,colors):  \n",
    "        df = iris[iris['iris-type'] == iris_type]    \n",
    "        df.plot(x,'sepal_length',ax=axes[axsub],kind='scatter',color=color,label=iris_type[5:])\n",
    "\n",
    "# remove legends for the first and last plots\n",
    "axes[0].get_legend().remove()\n",
    "axes[2].get_legend().remove()"
   ]
  },
  {
   "cell_type": "markdown",
   "metadata": {},
   "source": [
    "---"
   ]
  },
  {
   "cell_type": "markdown",
   "metadata": {},
   "source": [
    "---"
   ]
  },
  {
   "cell_type": "markdown",
   "metadata": {},
   "source": [
    "#### <font color=\"brown\">Exploring the California Housing Dataset</font>"
   ]
  },
  {
   "cell_type": "markdown",
   "metadata": {},
   "source": [
    "#### Presented in Aurelien Geron's book \"Hands-on Machine Learning with Scikit-Learn, Keras, and TensorFlow\"\n",
    "https://github.com/ageron/handson-ml2/tree/master/datasets/housing\n",
    "\n",
    "Also see:<br>\n",
    "https://developers.google.com/machine-learning/crash-course/california-housing-data-description"
   ]
  },
  {
   "cell_type": "markdown",
   "metadata": {},
   "source": [
    "**Get the housing data<br>**\n",
    "URL: https://raw.githubusercontent.com/ageron/handson-ml2/master/datasets/housing/housing.tgz"
   ]
  },
  {
   "cell_type": "code",
   "execution_count": null,
   "metadata": {},
   "outputs": [],
   "source": [
    "import urllib, tarfile\n",
    "\n",
    "housing_url = \"https://raw.githubusercontent.com/ageron/handson-ml2/master/datasets/housing/housing.tgz\"\n",
    "urllib.request.urlretrieve(housing_url, 'housing.tgz')\n",
    "housing_tgz = tarfile.open('housing.tgz')\n",
    "housing_tgz.extractall()\n",
    "housing_tgz.close()"
   ]
  },
  {
   "cell_type": "markdown",
   "metadata": {},
   "source": [
    "**Load the extracted csv file into a DataFrame**"
   ]
  },
  {
   "cell_type": "code",
   "execution_count": null,
   "metadata": {},
   "outputs": [],
   "source": [
    "housing = pd.read_csv('housing.csv')"
   ]
  },
  {
   "cell_type": "markdown",
   "metadata": {},
   "source": [
    "##### **Big Picture**"
   ]
  },
  {
   "cell_type": "code",
   "execution_count": null,
   "metadata": {},
   "outputs": [],
   "source": [
    "housing.head(10)"
   ]
  },
  {
   "cell_type": "markdown",
   "metadata": {},
   "source": [
    "**See https://developers.google.com/machine-learning/crash-course/california-housing-data-description<br>\n",
    "for a description of each of these columns. In particular, median income is in tens of thousands of dollars.**"
   ]
  },
  {
   "cell_type": "code",
   "execution_count": null,
   "metadata": {},
   "outputs": [],
   "source": [
    "housing.info()"
   ]
  },
  {
   "cell_type": "markdown",
   "metadata": {},
   "source": [
    "**The only column that has null values is total_bedrooms**"
   ]
  },
  {
   "cell_type": "markdown",
   "metadata": {},
   "source": [
    "---"
   ]
  },
  {
   "cell_type": "markdown",
   "metadata": {},
   "source": [
    "##### **Ocean Proximity**"
   ]
  },
  {
   "cell_type": "code",
   "execution_count": null,
   "metadata": {},
   "outputs": [],
   "source": [
    "housing['ocean_proximity'].value_counts()"
   ]
  },
  {
   "cell_type": "code",
   "execution_count": null,
   "metadata": {},
   "outputs": [],
   "source": [
    "ocp = DataFrame(housing['ocean_proximity'].value_counts())\n",
    "ocp"
   ]
  },
  {
   "cell_type": "code",
   "execution_count": null,
   "metadata": {},
   "outputs": [],
   "source": [
    "ocp = ocp.reset_index()\n",
    "ocp.columns = ['Ocean Proximity','Blocks']\n",
    "ocp"
   ]
  },
  {
   "cell_type": "code",
   "execution_count": null,
   "metadata": {},
   "outputs": [],
   "source": [
    "axis = ocp.plot(figsize=(6,4),x='Ocean Proximity',y='Blocks',kind='bar',rot=1)\n",
    "axis.set_ylabel('Blocks',fontsize=14)\n",
    "axis.set_xlabel('')\n",
    "axis.set_title('Ocean Proximity',fontsize=14)\n",
    "axis.legend('') "
   ]
  },
  {
   "cell_type": "markdown",
   "metadata": {},
   "source": [
    "---"
   ]
  },
  {
   "cell_type": "markdown",
   "metadata": {},
   "source": [
    "##### **Histograms for numerical attributes**"
   ]
  },
  {
   "cell_type": "code",
   "execution_count": null,
   "metadata": {},
   "outputs": [],
   "source": [
    "housing.describe()"
   ]
  },
  {
   "cell_type": "code",
   "execution_count": null,
   "metadata": {},
   "outputs": [],
   "source": [
    "housing.hist(bins=50, figsize=(20,15))"
   ]
  },
  {
   "cell_type": "markdown",
   "metadata": {},
   "source": [
    "---"
   ]
  },
  {
   "cell_type": "markdown",
   "metadata": {},
   "source": [
    "##### **Income Categories**\n",
    "Make a new column for income categories by partitioning median income into 5 classes: 1,2,3,4,5 for incomes in the ranges (0, 1.5), (1.5, 3.0), (3.0, 4.5), (4.5, 6.0), 6.0 and over. Use **Pandas.cut**\n",
    "method"
   ]
  },
  {
   "cell_type": "code",
   "execution_count": null,
   "metadata": {},
   "outputs": [],
   "source": [
    "housing['income_cat'] = pd.cut(housing['median_income'],\n",
    "                               bins=[0., 1.5, 3.0, 4.5, 6.0, np.inf],\n",
    "                               labels=[1,2,3,4,5])"
   ]
  },
  {
   "cell_type": "code",
   "execution_count": null,
   "metadata": {},
   "outputs": [],
   "source": [
    "housing.head(5)"
   ]
  },
  {
   "cell_type": "code",
   "execution_count": null,
   "metadata": {},
   "outputs": [],
   "source": [
    "housing.info()"
   ]
  },
  {
   "cell_type": "code",
   "execution_count": null,
   "metadata": {},
   "outputs": [],
   "source": [
    "ic_vals = housing['income_cat'].value_counts()\n",
    "print(ic_vals)"
   ]
  },
  {
   "cell_type": "code",
   "execution_count": null,
   "metadata": {},
   "outputs": [],
   "source": [
    "plt.bar(ic_vals.index, ic_vals.values)\n",
    "plt.xlabel(\"Income Category\")\n",
    "plt.ylabel(\"Households\")\n",
    "plt.show()"
   ]
  },
  {
   "cell_type": "markdown",
   "metadata": {},
   "source": [
    "---"
   ]
  },
  {
   "cell_type": "markdown",
   "metadata": {},
   "source": [
    "##### **Longitude-Latitude Map like plot**"
   ]
  },
  {
   "cell_type": "code",
   "execution_count": null,
   "metadata": {},
   "outputs": [],
   "source": [
    "housing.plot(kind='scatter',x='longitude',y='latitude')"
   ]
  },
  {
   "cell_type": "code",
   "execution_count": null,
   "metadata": {},
   "outputs": [],
   "source": [
    "housing.plot(kind='scatter',x='longitude',y='latitude',alpha=0.1)"
   ]
  },
  {
   "cell_type": "code",
   "execution_count": null,
   "metadata": {},
   "outputs": [],
   "source": [
    "# heat map\n",
    "housing.plot(kind='scatter',x='longitude',y='latitude',alpha=0.4,\n",
    "             s=housing['population']/100,label='population',\n",
    "             figsize=(10,7),c='median_house_value',\n",
    "             colorbar=True)"
   ]
  },
  {
   "cell_type": "markdown",
   "metadata": {},
   "source": [
    "---"
   ]
  },
  {
   "cell_type": "code",
   "execution_count": null,
   "metadata": {},
   "outputs": [],
   "source": []
  }
 ],
 "metadata": {
  "kernelspec": {
   "display_name": "Python 3 (ipykernel)",
   "language": "python",
   "name": "python3"
  },
  "language_info": {
   "codemirror_mode": {
    "name": "ipython",
    "version": 3
   },
   "file_extension": ".py",
   "mimetype": "text/x-python",
   "name": "python",
   "nbconvert_exporter": "python",
   "pygments_lexer": "ipython3",
   "version": "3.10.6"
  }
 },
 "nbformat": 4,
 "nbformat_minor": 4
}
