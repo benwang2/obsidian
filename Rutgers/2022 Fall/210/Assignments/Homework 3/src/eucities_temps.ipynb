{
 "cells": [
  {
   "cell_type": "markdown",
   "metadata": {},
   "source": [
    "# EU Cities Temperatures\n",
    "## Preprocessing / analysis\n",
    "1. Fill in the missing latitude and longitude values by calculating the average tempsor that country. Round the average to 2 decimal places."
   ]
  },
  {
   "cell_type": "code",
   "execution_count": 1,
   "metadata": {},
   "outputs": [
    {
     "ename": "ModuleNotFoundError",
     "evalue": "No module named 'pandas'",
     "output_type": "error",
     "traceback": [
      "\u001b[1;31m---------------------------------------------------------------------------\u001b[0m",
      "\u001b[1;31mModuleNotFoundError\u001b[0m                       Traceback (most recent call last)",
      "Cell \u001b[1;32mIn [1], line 1\u001b[0m\n\u001b[1;32m----> 1\u001b[0m \u001b[39mimport\u001b[39;00m \u001b[39mpandas\u001b[39;00m \u001b[39mas\u001b[39;00m \u001b[39mpd\u001b[39;00m\n\u001b[0;32m      3\u001b[0m f \u001b[39m=\u001b[39m pd\u001b[39m.\u001b[39mread_csv(\u001b[39m\"\u001b[39m\u001b[39m../data/EuCitiesTemperatures.csv\u001b[39m\u001b[39m\"\u001b[39m)\n\u001b[0;32m      4\u001b[0m f[[\u001b[39m'\u001b[39m\u001b[39mlatitude\u001b[39m\u001b[39m'\u001b[39m,\u001b[39m'\u001b[39m\u001b[39mlongitude\u001b[39m\u001b[39m'\u001b[39m]] \u001b[39m=\u001b[39m f[[\u001b[39m'\u001b[39m\u001b[39mlatitude\u001b[39m\u001b[39m'\u001b[39m,\u001b[39m'\u001b[39m\u001b[39mlongitude\u001b[39m\u001b[39m'\u001b[39m]]\u001b[39m.\u001b[39mfillna(f\u001b[39m.\u001b[39mgroupby(\u001b[39m'\u001b[39m\u001b[39mcountry\u001b[39m\u001b[39m'\u001b[39m)[[\u001b[39m'\u001b[39m\u001b[39mlatitude\u001b[39m\u001b[39m'\u001b[39m,\u001b[39m'\u001b[39m\u001b[39mlongitude\u001b[39m\u001b[39m'\u001b[39m]]\u001b[39m.\u001b[39mtransform(\u001b[39m'\u001b[39m\u001b[39mmean\u001b[39m\u001b[39m'\u001b[39m))\n",
      "\u001b[1;31mModuleNotFoundError\u001b[0m: No module named 'pandas'"
     ]
    }
   ],
   "source": [
    "import pandas as pd\n",
    "\n",
    "temps = pd.read_csv(\"../data/EuCitiesTemperatures.csv\")\n",
    "temps[['latitude','longitude']] = temps[['latitude','longitude']].fillna(temps.groupby('country')[['latitude','longitude']].transfsorm('mean'))"
   ]
  },
  {
   "cell_type": "markdown",
   "metadata": {},
   "source": [
    "2. Find the subset of cities that lie between latitudes 40 to 60 (both inclusive) and longitudes 15 to 30 (both inclusive). Find out which countries have the maximal number of cities in this geographical band. (More than one country could have the maximal number of values.))"
   ]
  },
  {
   "cell_type": "code",
   "execution_count": null,
   "metadata": {},
   "outputs": [],
   "source": [
    "lon_gte15 = temps[temps['longitude'] >= 15]\n",
    "lon_lte30 = temps[temps['longitude'] <= 30]\n",
    "lat_gte40 = temps[temps['latitude'] >= 40]\n",
    "lat_lte60 = temps[temps['latitude'] <= 60]\n",
    "\n",
    "lon_in_range = pd.merge(lon_gte15, lon_lte30, how='inner')\n",
    "lat_in_range = pd.merge(lat_gte40, lat_lte60, how='inner')\n",
    "subset = pd.merge(lon_in_range, lat_in_range, how='inner')\n",
    "\n",
    "city_count = subset.value_counts(['country'])\n",
    "maximal_cities = city_count[city_count == city_count.max()]"
   ]
  }
 ],
 "metadata": {
  "kernelspec": {
   "display_name": "Python 3.9.6 64-bit",
   "language": "python",
   "name": "python3"
  },
  "language_info": {
   "codemirror_mode": {
    "name": "ipython",
    "version": 3
   },
   "file_extension": ".py",
   "mimetype": "text/x-python",
   "name": "python",
   "nbconvert_exporter": "python",
   "pygments_lexer": "ipython3",
   "version": "3.9.6"
  },
  "orig_nbformat": 4,
  "vscode": {
   "interpreter": {
    "hash": "a8f278eb78c3501d05a19c6a87eae531b05d0e6d6d5a6149d099af0556c3351d"
   }
  }
 },
 "nbformat": 4,
 "nbformat_minor": 2
}
