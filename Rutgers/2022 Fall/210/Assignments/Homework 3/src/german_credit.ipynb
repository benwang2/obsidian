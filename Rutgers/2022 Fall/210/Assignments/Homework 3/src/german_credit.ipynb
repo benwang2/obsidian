{
 "cells": [
  {
   "cell_type": "markdown",
   "metadata": {},
   "source": [
    "# German Credit\n",
    "Load the CSV file GermanCredit.csv (1000 records) into a Pandas DataFrame, and perform the following tasks on it."
   ]
  },
  {
   "cell_type": "code",
   "execution_count": 2,
   "metadata": {},
   "outputs": [],
   "source": [
    "import pandas as pd\n",
    "\n",
    "gcred = pd.read_csv(\"../data/GermanCredit.csv\")"
   ]
  },
  {
   "cell_type": "markdown",
   "metadata": {},
   "source": [
    "## Preprocessing\n",
    "1. Drop the 3 columns that contribute the least to the dataset. These would be the columns with the highest number of non-zero\n",
    "‘none’ values. Break ties by going left to right in columns. (Your code should be generalizable to drop n columns, but for the rest of the\n",
    "analysis, you can call your code for n = 3.)"
   ]
  },
  {
   "cell_type": "code",
   "execution_count": 14,
   "metadata": {},
   "outputs": [
    {
     "ename": "AttributeError",
     "evalue": "'_iLocIndexer' object has no attribute 'head'",
     "output_type": "error",
     "traceback": [
      "\u001b[0;31m---------------------------------------------------------------------------\u001b[0m",
      "\u001b[0;31mAttributeError\u001b[0m                            Traceback (most recent call last)",
      "Cell \u001b[0;32mIn [14], line 5\u001b[0m\n\u001b[1;32m      2\u001b[0m n_dropped \u001b[39m=\u001b[39m \u001b[39m3\u001b[39m\n\u001b[1;32m      4\u001b[0m \u001b[39m# set(np.count_nonzero(gcred, axis=1))\u001b[39;00m\n\u001b[0;32m----> 5\u001b[0m gcred\u001b[39m.\u001b[39;49miloc(\u001b[39m1\u001b[39;49m)\u001b[39m.\u001b[39;49mhead(\u001b[39m1\u001b[39m)\n",
      "\u001b[0;31mAttributeError\u001b[0m: '_iLocIndexer' object has no attribute 'head'"
     ]
    }
   ],
   "source": [
    "import numpy as np\n",
    "n_dropped = 3\n",
    "\n",
    "# set(np.count_nonzero(gcred, axis=1))\n",
    "gcred.head(1)"
   ]
  }
 ],
 "metadata": {
  "kernelspec": {
   "display_name": "Python 3.11.0 64-bit",
   "language": "python",
   "name": "python3"
  },
  "language_info": {
   "codemirror_mode": {
    "name": "ipython",
    "version": 3
   },
   "file_extension": ".py",
   "mimetype": "text/x-python",
   "name": "python",
   "nbconvert_exporter": "python",
   "pygments_lexer": "ipython3",
   "version": "3.11.0"
  },
  "orig_nbformat": 4,
  "vscode": {
   "interpreter": {
    "hash": "e7370f93d1d0cde622a1f8e1c04877d8463912d04d973331ad4851f04de6915a"
   }
  }
 },
 "nbformat": 4,
 "nbformat_minor": 2
}
