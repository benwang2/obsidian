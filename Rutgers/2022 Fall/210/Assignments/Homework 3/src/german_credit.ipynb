{
 "cells": [
  {
   "cell_type": "markdown",
   "metadata": {},
   "source": [
    "# German Credit\n",
    "Load the CSV file GermanCredit.csv (1000 records) into a Pandas DataFrame, and perform the following tasks on it."
   ]
  },
  {
   "cell_type": "code",
   "execution_count": 2,
   "metadata": {},
   "outputs": [],
   "source": [
    "import pandas as pd\n",
    "\n",
    "gcred = pd.read_csv(\"../data/GermanCredit.csv\")"
   ]
  },
  {
   "cell_type": "markdown",
   "metadata": {},
   "source": [
    "## Preprocessing\n",
    "1. Drop the 3 columns that contribute the least to the dataset. These would be the columns with the highest number of non-zero\n",
    "‘none’ values. Break ties by going left to right in columns. (Your code should be generalizable to drop n columns, but for the rest of the\n",
    "analysis, you can call your code for n = 3.)"
   ]
  },
  {
   "cell_type": "code",
   "execution_count": 5,
   "metadata": {},
   "outputs": [
    {
     "data": {
      "text/plain": [
       "checking_status           1000\n",
       "duration                  1000\n",
       "credit_history            1000\n",
       "purpose                   1000\n",
       "credit_amount             1000\n",
       "savings_status            1000\n",
       "employment                1000\n",
       "installment_commitment    1000\n",
       "personal_status           1000\n",
       "other_parties             1000\n",
       "residence_since           1000\n",
       "property_magnitude        1000\n",
       "age                       1000\n",
       "other_payment_plans       1000\n",
       "housing                   1000\n",
       "existing_credits          1000\n",
       "job                       1000\n",
       "num_dependents            1000\n",
       "own_telephone             1000\n",
       "foreign_worker            1000\n",
       "class                     1000\n",
       "dtype: int64"
      ]
     },
     "execution_count": 5,
     "metadata": {},
     "output_type": "execute_result"
    }
   ],
   "source": [
    "import numpy as np\n",
    "n_dropped = 3\n",
    "\n",
    "np.count_nonzero(gcred, axis=1)"
   ]
  }
 ],
 "metadata": {
  "kernelspec": {
   "display_name": "Python 3.11.0 64-bit",
   "language": "python",
   "name": "python3"
  },
  "language_info": {
   "codemirror_mode": {
    "name": "ipython",
    "version": 3
   },
   "file_extension": ".py",
   "mimetype": "text/x-python",
   "name": "python",
   "nbconvert_exporter": "python",
   "pygments_lexer": "ipython3",
   "version": "3.11.0"
  },
  "orig_nbformat": 4,
  "vscode": {
   "interpreter": {
    "hash": "e7370f93d1d0cde622a1f8e1c04877d8463912d04d973331ad4851f04de6915a"
   }
  }
 },
 "nbformat": 4,
 "nbformat_minor": 2
}
