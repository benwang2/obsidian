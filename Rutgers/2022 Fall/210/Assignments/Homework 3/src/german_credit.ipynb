{
 "cells": [
  {
   "cell_type": "markdown",
   "metadata": {},
   "source": [
    "# German Credit\n",
    "Load the CSV file GermanCredit.csv (1000 records) into a Pandas DataFrame, and perform the following tasks on it."
   ]
  },
  {
   "cell_type": "code",
   "execution_count": 91,
   "metadata": {},
   "outputs": [
    {
     "data": {
      "text/plain": [
       "Index(['checking_status', 'duration', 'credit_history', 'purpose',\n",
       "       'credit_amount', 'savings_status', 'employment',\n",
       "       'installment_commitment', 'personal_status', 'other_parties',\n",
       "       'residence_since', 'property_magnitude', 'age', 'other_payment_plans',\n",
       "       'housing', 'existing_credits', 'job', 'num_dependents', 'own_telephone',\n",
       "       'foreign_worker', 'class'],\n",
       "      dtype='object')"
      ]
     },
     "metadata": {},
     "output_type": "display_data"
    }
   ],
   "source": [
    "import pandas as pd\n",
    "\n",
    "gcred = pd.read_csv(\"../data/GermanCredit.csv\")\n",
    "display(gcred.columns)"
   ]
  },
  {
   "cell_type": "markdown",
   "metadata": {},
   "source": [
    "## Preprocessing\n",
    "1. Drop the 3 columns that contribute the least to the dataset. These would be the columns with the highest number of non-zero\n",
    "‘none’ values. Break ties by going left to right in columns. (Your code should be generalizable to drop n columns, but for the rest of the\n",
    "analysis, you can call your code for n = 3.)"
   ]
  },
  {
   "cell_type": "code",
   "execution_count": 94,
   "metadata": {},
   "outputs": [
    {
     "name": "stdout",
     "output_type": "stream",
     "text": [
      "hi\n",
      "i=1, duration\n",
      "i=1, credit_history\n",
      "i=1, purpose\n",
      "i=1, credit_amount\n",
      "i=1, savings_status\n",
      "i=1, employment\n",
      "i=1, installment_commitment\n",
      "i=1, personal_status\n",
      "i=1, other_parties\n",
      "i=1, residence_since\n",
      "i=1, property_magnitude\n",
      "i=1, age\n",
      "i=1, other_payment_plans\n",
      "i=1, housing\n",
      "i=1, existing_credits\n",
      "i=1, job\n",
      "i=1, num_dependents\n",
      "i=1, own_telephone\n",
      "i=1, foreign_worker\n",
      "i=1, class\n"
     ]
    }
   ],
   "source": [
    "import numpy as np\n",
    "n_dropped = 3\n",
    "\n",
    "num_nones = gcred.isnull().sum(axis = 0)\n",
    "max_val = np.max(num_nones)\n",
    "grouped = num_nones.to_frame(0).groupby(0)\n",
    "\n",
    "def dropColumns(columns, n):\n",
    "    for i, col in enumerate(columns):\n",
    "        print(f\"i={i}\",col,sep=\", \")\n",
    "    pass\n",
    "\n",
    "print(\"hi\")\n",
    "for num_nones, columns in grouped:\n",
    "    if num_nones == 0:\n",
    "        dropColumns([i for i in columns[0].keys()], n_dropped)"
   ]
  }
 ],
 "metadata": {
  "kernelspec": {
   "display_name": "Python 3.11.0 64-bit",
   "language": "python",
   "name": "python3"
  },
  "language_info": {
   "codemirror_mode": {
    "name": "ipython",
    "version": 3
   },
   "file_extension": ".py",
   "mimetype": "text/x-python",
   "name": "python",
   "nbconvert_exporter": "python",
   "pygments_lexer": "ipython3",
   "version": "3.11.0"
  },
  "orig_nbformat": 4,
  "vscode": {
   "interpreter": {
    "hash": "e7370f93d1d0cde622a1f8e1c04877d8463912d04d973331ad4851f04de6915a"
   }
  }
 },
 "nbformat": 4,
 "nbformat_minor": 2
}
