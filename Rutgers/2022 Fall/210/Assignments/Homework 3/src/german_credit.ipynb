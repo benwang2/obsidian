{
 "cells": [
  {
   "cell_type": "markdown",
   "metadata": {},
   "source": [
    "# German Credit\n",
    "Load the CSV file GermanCredit.csv (1000 records) into a Pandas DataFrame, and perform the following tasks on it."
   ]
  },
  {
   "cell_type": "code",
   "execution_count": 2,
   "metadata": {},
   "outputs": [],
   "source": [
    "import pandas as pd\n",
    "\n",
    "gcred = pd.read_csv(\"../data/GermanCredit.csv\")"
   ]
  },
  {
   "cell_type": "markdown",
   "metadata": {},
   "source": [
    "## Preprocessing\n",
    "1. Drop the 3 columns that contribute the least to the dataset. These would be the columns with the highest number of non-zero\n",
    "‘none’ values. Break ties by going left to right in columns. (Your code should be generalizable to drop n columns, but for the rest of the\n",
    "analysis, you can call your code for n = 3.)"
   ]
  },
  {
   "cell_type": "code",
   "execution_count": 30,
   "metadata": {},
   "outputs": [
    {
     "name": "stdout",
     "output_type": "stream",
     "text": [
      "checking_status           0\n",
      "own_telephone             0\n",
      "num_dependents            0\n",
      "job                       0\n",
      "existing_credits          0\n",
      "housing                   0\n",
      "other_payment_plans       0\n",
      "age                       0\n",
      "property_magnitude        0\n",
      "foreign_worker            0\n",
      "residence_since           0\n",
      "personal_status           0\n",
      "installment_commitment    0\n",
      "employment                0\n",
      "savings_status            0\n",
      "credit_amount             0\n",
      "purpose                   0\n",
      "credit_history            0\n",
      "duration                  0\n",
      "other_parties             0\n",
      "class                     0\n",
      "dtype: int64\n"
     ]
    }
   ],
   "source": [
    "import numpy as np\n",
    "n_dropped = 3\n",
    "\n",
    "num_nones = gcred.isnull().sum(axis = 0).sort_values()\n",
    "\n",
    "print(num_nones)\n",
    "n_grouped = num_nones.groupby(num_nones)\n",
    "max_val = n_grouped.max()[0]\n",
    "\n",
    "if max_val > 0:\n",
    "    for num_nones, group in n_grouped:\n",
    "        pass\n",
    "    # print(\"group n =\",num_nones)\n",
    "    # print(\"values = [\\n\", group, \"\\n]\")"
   ]
  },
  {
   "cell_type": "code",
   "execution_count": null,
   "metadata": {},
   "outputs": [],
   "source": []
  }
 ],
 "metadata": {
  "kernelspec": {
   "display_name": "Python 3.11.0 64-bit",
   "language": "python",
   "name": "python3"
  },
  "language_info": {
   "codemirror_mode": {
    "name": "ipython",
    "version": 3
   },
   "file_extension": ".py",
   "mimetype": "text/x-python",
   "name": "python",
   "nbconvert_exporter": "python",
   "pygments_lexer": "ipython3",
   "version": "3.11.0"
  },
  "orig_nbformat": 4,
  "vscode": {
   "interpreter": {
    "hash": "e7370f93d1d0cde622a1f8e1c04877d8463912d04d973331ad4851f04de6915a"
   }
  }
 },
 "nbformat": 4,
 "nbformat_minor": 2
}
