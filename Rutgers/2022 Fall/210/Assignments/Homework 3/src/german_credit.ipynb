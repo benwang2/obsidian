{
 "cells": [
  {
   "cell_type": "markdown",
   "metadata": {},
   "source": [
    "# German Credit\n",
    "Load the CSV file GermanCredit.csv (1000 records) into a Pandas DataFrame, and perform the following tasks on it."
   ]
  },
  {
   "cell_type": "code",
   "execution_count": 116,
   "metadata": {},
   "outputs": [],
   "source": [
    "import pandas as pd\n",
    "\n",
    "gcred = pd.read_csv(\"../data/GermanCredit.csv\")"
   ]
  },
  {
   "cell_type": "markdown",
   "metadata": {},
   "source": [
    "## Preprocessing\n",
    "1. Drop the 3 columns that contribute the least to the dataset. These would be the columns with the highest number of non-zero\n",
    "‘none’ values. Break ties by going left to right in columns. (Your code should be generalizable to drop n columns, but for the rest of the\n",
    "analysis, you can call your code for n = 3.)"
   ]
  },
  {
   "cell_type": "code",
   "execution_count": 122,
   "metadata": {},
   "outputs": [
    {
     "data": {
      "text/plain": [
       "Index(['duration', 'credit_history', 'purpose', 'credit_amount',\n",
       "       'savings_status', 'employment', 'installment_commitment',\n",
       "       'personal_status', 'other_parties', 'residence_since',\n",
       "       'property_magnitude', 'age', 'other_payment_plans', 'housing',\n",
       "       'existing_credits', 'job', 'num_dependents', 'own_telephone',\n",
       "       'foreign_worker', 'class'],\n",
       "      dtype='object')"
      ]
     },
     "metadata": {},
     "output_type": "display_data"
    }
   ],
   "source": [
    "import numpy as np\n",
    "n_dropped = 3\n",
    "\n",
    "num_nones = gcred.isnull().sum(axis = 0)\n",
    "max_val = np.max(num_nones)\n",
    "grouped = num_nones.to_frame(0).groupby(0)\n",
    "gcred_cols = list(gcred.columns)\n",
    "\n",
    "for num_nones, group in grouped:\n",
    "    if num_nones == max_val:\n",
    "        columns = [i for i in group[0].keys()]\n",
    "\n",
    "        n = min(n_dropped, len(columns))\n",
    "        indices = [gcred_cols.index(i) for i in columns]\n",
    "        gcred = gcred.drop(gcred.columns[indices], axis=1)\n",
    "\n",
    "display(gcred.columns)"
   ]
  }
 ],
 "metadata": {
  "kernelspec": {
   "display_name": "Python 3.11.0 64-bit",
   "language": "python",
   "name": "python3"
  },
  "language_info": {
   "codemirror_mode": {
    "name": "ipython",
    "version": 3
   },
   "file_extension": ".py",
   "mimetype": "text/x-python",
   "name": "python",
   "nbconvert_exporter": "python",
   "pygments_lexer": "ipython3",
   "version": "3.11.0"
  },
  "orig_nbformat": 4,
  "vscode": {
   "interpreter": {
    "hash": "e7370f93d1d0cde622a1f8e1c04877d8463912d04d973331ad4851f04de6915a"
   }
  }
 },
 "nbformat": 4,
 "nbformat_minor": 2
}
